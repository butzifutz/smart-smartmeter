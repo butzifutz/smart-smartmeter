{
 "cells": [
  {
   "cell_type": "code",
   "execution_count": 22,
   "metadata": {},
   "outputs": [],
   "source": [
    "import requests\n",
    "import json"
   ]
  },
  {
   "cell_type": "code",
   "execution_count": 29,
   "metadata": {},
   "outputs": [
    {
     "data": {
      "text/plain": [
       "{}"
      ]
     },
     "execution_count": 29,
     "metadata": {},
     "output_type": "execute_result"
    }
   ],
   "source": [
    "# api-endpoint\n",
    "URL = 'https://eu-central-1.aws.data.mongodb-api.com/app/smartmeter_incoming-nzfqu/endpoint/incoming_webhook?secret=0this1one2is3super4secret5'\n",
    "# location given here\n",
    "\n",
    "header = {\"Content-Type\": \"application/json\"}\n",
    "# defining a params dict for the parameters to be sent to the API\n",
    "d = {\"f\": \"bar\"}\n",
    "PARAMS = json.dumps(d, indent = 4)\n",
    "  \n",
    "# sending get request and saving the response as response object\n",
    "r = requests.post(url = URL, params = PARAMS, headers=header, data=PARAMS)\n",
    "  \n",
    "# extracting data in json format\n",
    "r.json()"
   ]
  },
  {
   "cell_type": "code",
   "execution_count": null,
   "metadata": {},
   "outputs": [],
   "source": []
  }
 ],
 "metadata": {
  "kernelspec": {
   "display_name": "Python 3.9.7 ('base')",
   "language": "python",
   "name": "python3"
  },
  "language_info": {
   "codemirror_mode": {
    "name": "ipython",
    "version": 3
   },
   "file_extension": ".py",
   "mimetype": "text/x-python",
   "name": "python",
   "nbconvert_exporter": "python",
   "pygments_lexer": "ipython3",
   "version": "3.9.7"
  },
  "orig_nbformat": 4,
  "vscode": {
   "interpreter": {
    "hash": "9207264cfa2c961a65f21915a4339a81725fd712e4e99478f7d22b948285428f"
   }
  }
 },
 "nbformat": 4,
 "nbformat_minor": 2
}
